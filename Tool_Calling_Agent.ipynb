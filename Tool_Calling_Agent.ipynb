{
  "nbformat": 4,
  "nbformat_minor": 0,
  "metadata": {
    "colab": {
      "provenance": [],
      "authorship_tag": "ABX9TyOBtybuPTv6lot1I90C+wK4",
      "include_colab_link": true
    },
    "kernelspec": {
      "name": "python3",
      "display_name": "Python 3"
    },
    "language_info": {
      "name": "python"
    },
    "widgets": {
      "application/vnd.jupyter.widget-state+json": {
        "119b8e9fe8ee439ebba9732cbf3a213f": {
          "model_module": "@jupyter-widgets/controls",
          "model_name": "VBoxModel",
          "model_module_version": "1.5.0",
          "state": {
            "_dom_classes": [],
            "_model_module": "@jupyter-widgets/controls",
            "_model_module_version": "1.5.0",
            "_model_name": "VBoxModel",
            "_view_count": null,
            "_view_module": "@jupyter-widgets/controls",
            "_view_module_version": "1.5.0",
            "_view_name": "VBoxView",
            "box_style": "",
            "children": [],
            "layout": "IPY_MODEL_14975d43983642fba7714109275f81d8"
          }
        },
        "4b55b3c7a27e4337bf9ba3d78bd611d0": {
          "model_module": "@jupyter-widgets/controls",
          "model_name": "HTMLModel",
          "model_module_version": "1.5.0",
          "state": {
            "_dom_classes": [],
            "_model_module": "@jupyter-widgets/controls",
            "_model_module_version": "1.5.0",
            "_model_name": "HTMLModel",
            "_view_count": null,
            "_view_module": "@jupyter-widgets/controls",
            "_view_module_version": "1.5.0",
            "_view_name": "HTMLView",
            "description": "",
            "description_tooltip": null,
            "layout": "IPY_MODEL_02715bce5b6c45dd8760f653bb689d86",
            "placeholder": "​",
            "style": "IPY_MODEL_22d8a06c59c34698a56d922f5e8d2a97",
            "value": "<center> <img\nsrc=https://huggingface.co/front/assets/huggingface_logo-noborder.svg\nalt='Hugging Face'> <br> Copy a token from <a\nhref=\"https://huggingface.co/settings/tokens\" target=\"_blank\">your Hugging Face\ntokens page</a> and paste it below. <br> Immediately click login after copying\nyour token or it might be stored in plain text in this notebook file. </center>"
          }
        },
        "1cc42767bbea4dc3b91c257a8ba03ee5": {
          "model_module": "@jupyter-widgets/controls",
          "model_name": "PasswordModel",
          "model_module_version": "1.5.0",
          "state": {
            "_dom_classes": [],
            "_model_module": "@jupyter-widgets/controls",
            "_model_module_version": "1.5.0",
            "_model_name": "PasswordModel",
            "_view_count": null,
            "_view_module": "@jupyter-widgets/controls",
            "_view_module_version": "1.5.0",
            "_view_name": "PasswordView",
            "continuous_update": true,
            "description": "Token:",
            "description_tooltip": null,
            "disabled": false,
            "layout": "IPY_MODEL_12571ea2f27b49a29cbd2a418de7bf54",
            "placeholder": "​",
            "style": "IPY_MODEL_f639f49ca0da420e8b3dd8a369e9f7b4",
            "value": ""
          }
        },
        "1a0164396dc14c50a5c9755f7793411f": {
          "model_module": "@jupyter-widgets/controls",
          "model_name": "CheckboxModel",
          "model_module_version": "1.5.0",
          "state": {
            "_dom_classes": [],
            "_model_module": "@jupyter-widgets/controls",
            "_model_module_version": "1.5.0",
            "_model_name": "CheckboxModel",
            "_view_count": null,
            "_view_module": "@jupyter-widgets/controls",
            "_view_module_version": "1.5.0",
            "_view_name": "CheckboxView",
            "description": "Add token as git credential?",
            "description_tooltip": null,
            "disabled": false,
            "indent": true,
            "layout": "IPY_MODEL_88e5f8c1b7ac4a97a6c5d9ce5651a165",
            "style": "IPY_MODEL_9180c2f24d6f4c35b56b24a49ba11d31",
            "value": true
          }
        },
        "882c0ad4b17c4653997fd7cd6f528522": {
          "model_module": "@jupyter-widgets/controls",
          "model_name": "ButtonModel",
          "model_module_version": "1.5.0",
          "state": {
            "_dom_classes": [],
            "_model_module": "@jupyter-widgets/controls",
            "_model_module_version": "1.5.0",
            "_model_name": "ButtonModel",
            "_view_count": null,
            "_view_module": "@jupyter-widgets/controls",
            "_view_module_version": "1.5.0",
            "_view_name": "ButtonView",
            "button_style": "",
            "description": "Login",
            "disabled": false,
            "icon": "",
            "layout": "IPY_MODEL_a8197a5fa9c44c4fa88351b88928a2ac",
            "style": "IPY_MODEL_3ab17e0d1268477fba87a3ef77fd24b4",
            "tooltip": ""
          }
        },
        "c414804f68594fb88f4566fffd5cc392": {
          "model_module": "@jupyter-widgets/controls",
          "model_name": "HTMLModel",
          "model_module_version": "1.5.0",
          "state": {
            "_dom_classes": [],
            "_model_module": "@jupyter-widgets/controls",
            "_model_module_version": "1.5.0",
            "_model_name": "HTMLModel",
            "_view_count": null,
            "_view_module": "@jupyter-widgets/controls",
            "_view_module_version": "1.5.0",
            "_view_name": "HTMLView",
            "description": "",
            "description_tooltip": null,
            "layout": "IPY_MODEL_cef81976999e4b09b5e2dc4d829dc51a",
            "placeholder": "​",
            "style": "IPY_MODEL_c6360fd46f844218ae9412ca518623eb",
            "value": "\n<b>Pro Tip:</b> If you don't already have one, you can create a dedicated\n'notebooks' token with 'write' access, that you can then easily reuse for all\nnotebooks. </center>"
          }
        },
        "14975d43983642fba7714109275f81d8": {
          "model_module": "@jupyter-widgets/base",
          "model_name": "LayoutModel",
          "model_module_version": "1.2.0",
          "state": {
            "_model_module": "@jupyter-widgets/base",
            "_model_module_version": "1.2.0",
            "_model_name": "LayoutModel",
            "_view_count": null,
            "_view_module": "@jupyter-widgets/base",
            "_view_module_version": "1.2.0",
            "_view_name": "LayoutView",
            "align_content": null,
            "align_items": "center",
            "align_self": null,
            "border": null,
            "bottom": null,
            "display": "flex",
            "flex": null,
            "flex_flow": "column",
            "grid_area": null,
            "grid_auto_columns": null,
            "grid_auto_flow": null,
            "grid_auto_rows": null,
            "grid_column": null,
            "grid_gap": null,
            "grid_row": null,
            "grid_template_areas": null,
            "grid_template_columns": null,
            "grid_template_rows": null,
            "height": null,
            "justify_content": null,
            "justify_items": null,
            "left": null,
            "margin": null,
            "max_height": null,
            "max_width": null,
            "min_height": null,
            "min_width": null,
            "object_fit": null,
            "object_position": null,
            "order": null,
            "overflow": null,
            "overflow_x": null,
            "overflow_y": null,
            "padding": null,
            "right": null,
            "top": null,
            "visibility": null,
            "width": "50%"
          }
        },
        "02715bce5b6c45dd8760f653bb689d86": {
          "model_module": "@jupyter-widgets/base",
          "model_name": "LayoutModel",
          "model_module_version": "1.2.0",
          "state": {
            "_model_module": "@jupyter-widgets/base",
            "_model_module_version": "1.2.0",
            "_model_name": "LayoutModel",
            "_view_count": null,
            "_view_module": "@jupyter-widgets/base",
            "_view_module_version": "1.2.0",
            "_view_name": "LayoutView",
            "align_content": null,
            "align_items": null,
            "align_self": null,
            "border": null,
            "bottom": null,
            "display": null,
            "flex": null,
            "flex_flow": null,
            "grid_area": null,
            "grid_auto_columns": null,
            "grid_auto_flow": null,
            "grid_auto_rows": null,
            "grid_column": null,
            "grid_gap": null,
            "grid_row": null,
            "grid_template_areas": null,
            "grid_template_columns": null,
            "grid_template_rows": null,
            "height": null,
            "justify_content": null,
            "justify_items": null,
            "left": null,
            "margin": null,
            "max_height": null,
            "max_width": null,
            "min_height": null,
            "min_width": null,
            "object_fit": null,
            "object_position": null,
            "order": null,
            "overflow": null,
            "overflow_x": null,
            "overflow_y": null,
            "padding": null,
            "right": null,
            "top": null,
            "visibility": null,
            "width": null
          }
        },
        "22d8a06c59c34698a56d922f5e8d2a97": {
          "model_module": "@jupyter-widgets/controls",
          "model_name": "DescriptionStyleModel",
          "model_module_version": "1.5.0",
          "state": {
            "_model_module": "@jupyter-widgets/controls",
            "_model_module_version": "1.5.0",
            "_model_name": "DescriptionStyleModel",
            "_view_count": null,
            "_view_module": "@jupyter-widgets/base",
            "_view_module_version": "1.2.0",
            "_view_name": "StyleView",
            "description_width": ""
          }
        },
        "12571ea2f27b49a29cbd2a418de7bf54": {
          "model_module": "@jupyter-widgets/base",
          "model_name": "LayoutModel",
          "model_module_version": "1.2.0",
          "state": {
            "_model_module": "@jupyter-widgets/base",
            "_model_module_version": "1.2.0",
            "_model_name": "LayoutModel",
            "_view_count": null,
            "_view_module": "@jupyter-widgets/base",
            "_view_module_version": "1.2.0",
            "_view_name": "LayoutView",
            "align_content": null,
            "align_items": null,
            "align_self": null,
            "border": null,
            "bottom": null,
            "display": null,
            "flex": null,
            "flex_flow": null,
            "grid_area": null,
            "grid_auto_columns": null,
            "grid_auto_flow": null,
            "grid_auto_rows": null,
            "grid_column": null,
            "grid_gap": null,
            "grid_row": null,
            "grid_template_areas": null,
            "grid_template_columns": null,
            "grid_template_rows": null,
            "height": null,
            "justify_content": null,
            "justify_items": null,
            "left": null,
            "margin": null,
            "max_height": null,
            "max_width": null,
            "min_height": null,
            "min_width": null,
            "object_fit": null,
            "object_position": null,
            "order": null,
            "overflow": null,
            "overflow_x": null,
            "overflow_y": null,
            "padding": null,
            "right": null,
            "top": null,
            "visibility": null,
            "width": null
          }
        },
        "f639f49ca0da420e8b3dd8a369e9f7b4": {
          "model_module": "@jupyter-widgets/controls",
          "model_name": "DescriptionStyleModel",
          "model_module_version": "1.5.0",
          "state": {
            "_model_module": "@jupyter-widgets/controls",
            "_model_module_version": "1.5.0",
            "_model_name": "DescriptionStyleModel",
            "_view_count": null,
            "_view_module": "@jupyter-widgets/base",
            "_view_module_version": "1.2.0",
            "_view_name": "StyleView",
            "description_width": ""
          }
        },
        "88e5f8c1b7ac4a97a6c5d9ce5651a165": {
          "model_module": "@jupyter-widgets/base",
          "model_name": "LayoutModel",
          "model_module_version": "1.2.0",
          "state": {
            "_model_module": "@jupyter-widgets/base",
            "_model_module_version": "1.2.0",
            "_model_name": "LayoutModel",
            "_view_count": null,
            "_view_module": "@jupyter-widgets/base",
            "_view_module_version": "1.2.0",
            "_view_name": "LayoutView",
            "align_content": null,
            "align_items": null,
            "align_self": null,
            "border": null,
            "bottom": null,
            "display": null,
            "flex": null,
            "flex_flow": null,
            "grid_area": null,
            "grid_auto_columns": null,
            "grid_auto_flow": null,
            "grid_auto_rows": null,
            "grid_column": null,
            "grid_gap": null,
            "grid_row": null,
            "grid_template_areas": null,
            "grid_template_columns": null,
            "grid_template_rows": null,
            "height": null,
            "justify_content": null,
            "justify_items": null,
            "left": null,
            "margin": null,
            "max_height": null,
            "max_width": null,
            "min_height": null,
            "min_width": null,
            "object_fit": null,
            "object_position": null,
            "order": null,
            "overflow": null,
            "overflow_x": null,
            "overflow_y": null,
            "padding": null,
            "right": null,
            "top": null,
            "visibility": null,
            "width": null
          }
        },
        "9180c2f24d6f4c35b56b24a49ba11d31": {
          "model_module": "@jupyter-widgets/controls",
          "model_name": "DescriptionStyleModel",
          "model_module_version": "1.5.0",
          "state": {
            "_model_module": "@jupyter-widgets/controls",
            "_model_module_version": "1.5.0",
            "_model_name": "DescriptionStyleModel",
            "_view_count": null,
            "_view_module": "@jupyter-widgets/base",
            "_view_module_version": "1.2.0",
            "_view_name": "StyleView",
            "description_width": ""
          }
        },
        "a8197a5fa9c44c4fa88351b88928a2ac": {
          "model_module": "@jupyter-widgets/base",
          "model_name": "LayoutModel",
          "model_module_version": "1.2.0",
          "state": {
            "_model_module": "@jupyter-widgets/base",
            "_model_module_version": "1.2.0",
            "_model_name": "LayoutModel",
            "_view_count": null,
            "_view_module": "@jupyter-widgets/base",
            "_view_module_version": "1.2.0",
            "_view_name": "LayoutView",
            "align_content": null,
            "align_items": null,
            "align_self": null,
            "border": null,
            "bottom": null,
            "display": null,
            "flex": null,
            "flex_flow": null,
            "grid_area": null,
            "grid_auto_columns": null,
            "grid_auto_flow": null,
            "grid_auto_rows": null,
            "grid_column": null,
            "grid_gap": null,
            "grid_row": null,
            "grid_template_areas": null,
            "grid_template_columns": null,
            "grid_template_rows": null,
            "height": null,
            "justify_content": null,
            "justify_items": null,
            "left": null,
            "margin": null,
            "max_height": null,
            "max_width": null,
            "min_height": null,
            "min_width": null,
            "object_fit": null,
            "object_position": null,
            "order": null,
            "overflow": null,
            "overflow_x": null,
            "overflow_y": null,
            "padding": null,
            "right": null,
            "top": null,
            "visibility": null,
            "width": null
          }
        },
        "3ab17e0d1268477fba87a3ef77fd24b4": {
          "model_module": "@jupyter-widgets/controls",
          "model_name": "ButtonStyleModel",
          "model_module_version": "1.5.0",
          "state": {
            "_model_module": "@jupyter-widgets/controls",
            "_model_module_version": "1.5.0",
            "_model_name": "ButtonStyleModel",
            "_view_count": null,
            "_view_module": "@jupyter-widgets/base",
            "_view_module_version": "1.2.0",
            "_view_name": "StyleView",
            "button_color": null,
            "font_weight": ""
          }
        },
        "cef81976999e4b09b5e2dc4d829dc51a": {
          "model_module": "@jupyter-widgets/base",
          "model_name": "LayoutModel",
          "model_module_version": "1.2.0",
          "state": {
            "_model_module": "@jupyter-widgets/base",
            "_model_module_version": "1.2.0",
            "_model_name": "LayoutModel",
            "_view_count": null,
            "_view_module": "@jupyter-widgets/base",
            "_view_module_version": "1.2.0",
            "_view_name": "LayoutView",
            "align_content": null,
            "align_items": null,
            "align_self": null,
            "border": null,
            "bottom": null,
            "display": null,
            "flex": null,
            "flex_flow": null,
            "grid_area": null,
            "grid_auto_columns": null,
            "grid_auto_flow": null,
            "grid_auto_rows": null,
            "grid_column": null,
            "grid_gap": null,
            "grid_row": null,
            "grid_template_areas": null,
            "grid_template_columns": null,
            "grid_template_rows": null,
            "height": null,
            "justify_content": null,
            "justify_items": null,
            "left": null,
            "margin": null,
            "max_height": null,
            "max_width": null,
            "min_height": null,
            "min_width": null,
            "object_fit": null,
            "object_position": null,
            "order": null,
            "overflow": null,
            "overflow_x": null,
            "overflow_y": null,
            "padding": null,
            "right": null,
            "top": null,
            "visibility": null,
            "width": null
          }
        },
        "c6360fd46f844218ae9412ca518623eb": {
          "model_module": "@jupyter-widgets/controls",
          "model_name": "DescriptionStyleModel",
          "model_module_version": "1.5.0",
          "state": {
            "_model_module": "@jupyter-widgets/controls",
            "_model_module_version": "1.5.0",
            "_model_name": "DescriptionStyleModel",
            "_view_count": null,
            "_view_module": "@jupyter-widgets/base",
            "_view_module_version": "1.2.0",
            "_view_name": "StyleView",
            "description_width": ""
          }
        },
        "8083829987394f989957398d2417d581": {
          "model_module": "@jupyter-widgets/controls",
          "model_name": "LabelModel",
          "model_module_version": "1.5.0",
          "state": {
            "_dom_classes": [],
            "_model_module": "@jupyter-widgets/controls",
            "_model_module_version": "1.5.0",
            "_model_name": "LabelModel",
            "_view_count": null,
            "_view_module": "@jupyter-widgets/controls",
            "_view_module_version": "1.5.0",
            "_view_name": "LabelView",
            "description": "",
            "description_tooltip": null,
            "layout": "IPY_MODEL_95eb792462c742e587cb3a96209524b8",
            "placeholder": "​",
            "style": "IPY_MODEL_fb17e6a81c2440fca7086cca0849fddb",
            "value": "Connecting..."
          }
        },
        "95eb792462c742e587cb3a96209524b8": {
          "model_module": "@jupyter-widgets/base",
          "model_name": "LayoutModel",
          "model_module_version": "1.2.0",
          "state": {
            "_model_module": "@jupyter-widgets/base",
            "_model_module_version": "1.2.0",
            "_model_name": "LayoutModel",
            "_view_count": null,
            "_view_module": "@jupyter-widgets/base",
            "_view_module_version": "1.2.0",
            "_view_name": "LayoutView",
            "align_content": null,
            "align_items": null,
            "align_self": null,
            "border": null,
            "bottom": null,
            "display": null,
            "flex": null,
            "flex_flow": null,
            "grid_area": null,
            "grid_auto_columns": null,
            "grid_auto_flow": null,
            "grid_auto_rows": null,
            "grid_column": null,
            "grid_gap": null,
            "grid_row": null,
            "grid_template_areas": null,
            "grid_template_columns": null,
            "grid_template_rows": null,
            "height": null,
            "justify_content": null,
            "justify_items": null,
            "left": null,
            "margin": null,
            "max_height": null,
            "max_width": null,
            "min_height": null,
            "min_width": null,
            "object_fit": null,
            "object_position": null,
            "order": null,
            "overflow": null,
            "overflow_x": null,
            "overflow_y": null,
            "padding": null,
            "right": null,
            "top": null,
            "visibility": null,
            "width": null
          }
        },
        "fb17e6a81c2440fca7086cca0849fddb": {
          "model_module": "@jupyter-widgets/controls",
          "model_name": "DescriptionStyleModel",
          "model_module_version": "1.5.0",
          "state": {
            "_model_module": "@jupyter-widgets/controls",
            "_model_module_version": "1.5.0",
            "_model_name": "DescriptionStyleModel",
            "_view_count": null,
            "_view_module": "@jupyter-widgets/base",
            "_view_module_version": "1.2.0",
            "_view_name": "StyleView",
            "description_width": ""
          }
        }
      }
    }
  },
  "cells": [
    {
      "cell_type": "markdown",
      "metadata": {
        "id": "view-in-github",
        "colab_type": "text"
      },
      "source": [
        "<a href=\"https://colab.research.google.com/github/rahmani3101/LLM/blob/main/Tool_Calling_Agent.ipynb\" target=\"_parent\"><img src=\"https://colab.research.google.com/assets/colab-badge.svg\" alt=\"Open In Colab\"/></a>"
      ]
    },
    {
      "cell_type": "code",
      "execution_count": null,
      "metadata": {
        "colab": {
          "base_uri": "https://localhost:8080/"
        },
        "id": "bHVVQ6Kx6po8",
        "outputId": "d2c8518e-bf39-4cca-f01a-98800a30bb2e"
      },
      "outputs": [
        {
          "output_type": "stream",
          "name": "stdout",
          "text": [
            "Collecting smolagents\n",
            "  Downloading smolagents-1.9.2-py3-none-any.whl.metadata (14 kB)\n",
            "Requirement already satisfied: huggingface-hub>=0.28.0 in /usr/local/lib/python3.11/dist-packages (from smolagents) (0.28.1)\n",
            "Requirement already satisfied: requests>=2.32.3 in /usr/local/lib/python3.11/dist-packages (from smolagents) (2.32.3)\n",
            "Requirement already satisfied: rich>=13.9.4 in /usr/local/lib/python3.11/dist-packages (from smolagents) (13.9.4)\n",
            "Collecting pandas>=2.2.3 (from smolagents)\n",
            "  Downloading pandas-2.2.3-cp311-cp311-manylinux_2_17_x86_64.manylinux2014_x86_64.whl.metadata (89 kB)\n",
            "\u001b[2K     \u001b[90m━━━━━━━━━━━━━━━━━━━━━━━━━━━━━━━━━━━━━━━━\u001b[0m \u001b[32m89.9/89.9 kB\u001b[0m \u001b[31m3.4 MB/s\u001b[0m eta \u001b[36m0:00:00\u001b[0m\n",
            "\u001b[?25hRequirement already satisfied: jinja2>=3.1.4 in /usr/local/lib/python3.11/dist-packages (from smolagents) (3.1.5)\n",
            "Requirement already satisfied: pillow>=11.0.0 in /usr/local/lib/python3.11/dist-packages (from smolagents) (11.1.0)\n",
            "Collecting markdownify>=0.14.1 (from smolagents)\n",
            "  Downloading markdownify-1.0.0-py3-none-any.whl.metadata (9.1 kB)\n",
            "Collecting duckduckgo-search>=6.3.7 (from smolagents)\n",
            "  Downloading duckduckgo_search-7.5.0-py3-none-any.whl.metadata (17 kB)\n",
            "Collecting python-dotenv (from smolagents)\n",
            "  Downloading python_dotenv-1.0.1-py3-none-any.whl.metadata (23 kB)\n",
            "Requirement already satisfied: click>=8.1.8 in /usr/local/lib/python3.11/dist-packages (from duckduckgo-search>=6.3.7->smolagents) (8.1.8)\n",
            "Collecting primp>=0.14.0 (from duckduckgo-search>=6.3.7->smolagents)\n",
            "  Downloading primp-0.14.0-cp38-abi3-manylinux_2_17_x86_64.manylinux2014_x86_64.whl.metadata (13 kB)\n",
            "Requirement already satisfied: lxml>=5.3.0 in /usr/local/lib/python3.11/dist-packages (from duckduckgo-search>=6.3.7->smolagents) (5.3.1)\n",
            "Requirement already satisfied: filelock in /usr/local/lib/python3.11/dist-packages (from huggingface-hub>=0.28.0->smolagents) (3.17.0)\n",
            "Requirement already satisfied: fsspec>=2023.5.0 in /usr/local/lib/python3.11/dist-packages (from huggingface-hub>=0.28.0->smolagents) (2024.10.0)\n",
            "Requirement already satisfied: packaging>=20.9 in /usr/local/lib/python3.11/dist-packages (from huggingface-hub>=0.28.0->smolagents) (24.2)\n",
            "Requirement already satisfied: pyyaml>=5.1 in /usr/local/lib/python3.11/dist-packages (from huggingface-hub>=0.28.0->smolagents) (6.0.2)\n",
            "Requirement already satisfied: tqdm>=4.42.1 in /usr/local/lib/python3.11/dist-packages (from huggingface-hub>=0.28.0->smolagents) (4.67.1)\n",
            "Requirement already satisfied: typing-extensions>=3.7.4.3 in /usr/local/lib/python3.11/dist-packages (from huggingface-hub>=0.28.0->smolagents) (4.12.2)\n",
            "Requirement already satisfied: MarkupSafe>=2.0 in /usr/local/lib/python3.11/dist-packages (from jinja2>=3.1.4->smolagents) (3.0.2)\n",
            "Requirement already satisfied: beautifulsoup4<5,>=4.9 in /usr/local/lib/python3.11/dist-packages (from markdownify>=0.14.1->smolagents) (4.13.3)\n",
            "Requirement already satisfied: six<2,>=1.15 in /usr/local/lib/python3.11/dist-packages (from markdownify>=0.14.1->smolagents) (1.17.0)\n",
            "Requirement already satisfied: numpy>=1.23.2 in /usr/local/lib/python3.11/dist-packages (from pandas>=2.2.3->smolagents) (1.26.4)\n",
            "Requirement already satisfied: python-dateutil>=2.8.2 in /usr/local/lib/python3.11/dist-packages (from pandas>=2.2.3->smolagents) (2.8.2)\n",
            "Requirement already satisfied: pytz>=2020.1 in /usr/local/lib/python3.11/dist-packages (from pandas>=2.2.3->smolagents) (2025.1)\n",
            "Requirement already satisfied: tzdata>=2022.7 in /usr/local/lib/python3.11/dist-packages (from pandas>=2.2.3->smolagents) (2025.1)\n",
            "Requirement already satisfied: charset-normalizer<4,>=2 in /usr/local/lib/python3.11/dist-packages (from requests>=2.32.3->smolagents) (3.4.1)\n",
            "Requirement already satisfied: idna<4,>=2.5 in /usr/local/lib/python3.11/dist-packages (from requests>=2.32.3->smolagents) (3.10)\n",
            "Requirement already satisfied: urllib3<3,>=1.21.1 in /usr/local/lib/python3.11/dist-packages (from requests>=2.32.3->smolagents) (2.3.0)\n",
            "Requirement already satisfied: certifi>=2017.4.17 in /usr/local/lib/python3.11/dist-packages (from requests>=2.32.3->smolagents) (2025.1.31)\n",
            "Requirement already satisfied: markdown-it-py>=2.2.0 in /usr/local/lib/python3.11/dist-packages (from rich>=13.9.4->smolagents) (3.0.0)\n",
            "Requirement already satisfied: pygments<3.0.0,>=2.13.0 in /usr/local/lib/python3.11/dist-packages (from rich>=13.9.4->smolagents) (2.18.0)\n",
            "Requirement already satisfied: soupsieve>1.2 in /usr/local/lib/python3.11/dist-packages (from beautifulsoup4<5,>=4.9->markdownify>=0.14.1->smolagents) (2.6)\n",
            "Requirement already satisfied: mdurl~=0.1 in /usr/local/lib/python3.11/dist-packages (from markdown-it-py>=2.2.0->rich>=13.9.4->smolagents) (0.1.2)\n",
            "Downloading smolagents-1.9.2-py3-none-any.whl (101 kB)\n",
            "\u001b[2K   \u001b[90m━━━━━━━━━━━━━━━━━━━━━━━━━━━━━━━━━━━━━━━━\u001b[0m \u001b[32m101.8/101.8 kB\u001b[0m \u001b[31m6.1 MB/s\u001b[0m eta \u001b[36m0:00:00\u001b[0m\n",
            "\u001b[?25hDownloading duckduckgo_search-7.5.0-py3-none-any.whl (20 kB)\n",
            "Downloading markdownify-1.0.0-py3-none-any.whl (13 kB)\n",
            "Downloading pandas-2.2.3-cp311-cp311-manylinux_2_17_x86_64.manylinux2014_x86_64.whl (13.1 MB)\n",
            "\u001b[2K   \u001b[90m━━━━━━━━━━━━━━━━━━━━━━━━━━━━━━━━━━━━━━━━\u001b[0m \u001b[32m13.1/13.1 MB\u001b[0m \u001b[31m57.0 MB/s\u001b[0m eta \u001b[36m0:00:00\u001b[0m\n",
            "\u001b[?25hDownloading python_dotenv-1.0.1-py3-none-any.whl (19 kB)\n",
            "Downloading primp-0.14.0-cp38-abi3-manylinux_2_17_x86_64.manylinux2014_x86_64.whl (3.3 MB)\n",
            "\u001b[2K   \u001b[90m━━━━━━━━━━━━━━━━━━━━━━━━━━━━━━━━━━━━━━━━\u001b[0m \u001b[32m3.3/3.3 MB\u001b[0m \u001b[31m54.3 MB/s\u001b[0m eta \u001b[36m0:00:00\u001b[0m\n",
            "\u001b[?25hInstalling collected packages: python-dotenv, primp, pandas, markdownify, duckduckgo-search, smolagents\n",
            "  Attempting uninstall: pandas\n",
            "    Found existing installation: pandas 2.2.2\n",
            "    Uninstalling pandas-2.2.2:\n",
            "      Successfully uninstalled pandas-2.2.2\n",
            "\u001b[31mERROR: pip's dependency resolver does not currently take into account all the packages that are installed. This behaviour is the source of the following dependency conflicts.\n",
            "google-colab 1.0.0 requires pandas==2.2.2, but you have pandas 2.2.3 which is incompatible.\u001b[0m\u001b[31m\n",
            "\u001b[0mSuccessfully installed duckduckgo-search-7.5.0 markdownify-1.0.0 pandas-2.2.3 primp-0.14.0 python-dotenv-1.0.1 smolagents-1.9.2\n"
          ]
        }
      ],
      "source": [
        "!pip install smolagents -U\n"
      ]
    },
    {
      "cell_type": "code",
      "source": [
        "from huggingface_hub import notebook_login\n",
        "\n",
        "notebook_login()"
      ],
      "metadata": {
        "colab": {
          "base_uri": "https://localhost:8080/",
          "height": 17,
          "referenced_widgets": [
            "119b8e9fe8ee439ebba9732cbf3a213f",
            "4b55b3c7a27e4337bf9ba3d78bd611d0",
            "1cc42767bbea4dc3b91c257a8ba03ee5",
            "1a0164396dc14c50a5c9755f7793411f",
            "882c0ad4b17c4653997fd7cd6f528522",
            "c414804f68594fb88f4566fffd5cc392",
            "14975d43983642fba7714109275f81d8",
            "02715bce5b6c45dd8760f653bb689d86",
            "22d8a06c59c34698a56d922f5e8d2a97",
            "12571ea2f27b49a29cbd2a418de7bf54",
            "f639f49ca0da420e8b3dd8a369e9f7b4",
            "88e5f8c1b7ac4a97a6c5d9ce5651a165",
            "9180c2f24d6f4c35b56b24a49ba11d31",
            "a8197a5fa9c44c4fa88351b88928a2ac",
            "3ab17e0d1268477fba87a3ef77fd24b4",
            "cef81976999e4b09b5e2dc4d829dc51a",
            "c6360fd46f844218ae9412ca518623eb",
            "8083829987394f989957398d2417d581",
            "95eb792462c742e587cb3a96209524b8",
            "fb17e6a81c2440fca7086cca0849fddb"
          ]
        },
        "id": "NEergONJ6tw-",
        "outputId": "d4ff23da-34d3-4b37-a74a-fd7636c93cb9"
      },
      "execution_count": null,
      "outputs": [
        {
          "output_type": "display_data",
          "data": {
            "text/plain": [
              "VBox(children=(HTML(value='<center> <img\\nsrc=https://huggingface.co/front/assets/huggingface_logo-noborder.sv…"
            ],
            "application/vnd.jupyter.widget-view+json": {
              "version_major": 2,
              "version_minor": 0,
              "model_id": "119b8e9fe8ee439ebba9732cbf3a213f"
            }
          },
          "metadata": {}
        }
      ]
    },
    {
      "cell_type": "code",
      "source": [
        "from smolagents import ToolCallingAgent, DuckDuckGoSearchTool, HfApiModel\n",
        "\n",
        "agent = ToolCallingAgent(tools=[DuckDuckGoSearchTool()], model=HfApiModel())\n",
        "\n",
        "agent.run(\"Search for the best music recommendations for a party at the Wayne's mansion.\")"
      ],
      "metadata": {
        "colab": {
          "base_uri": "https://localhost:8080/",
          "height": 1000
        },
        "id": "psPB5e_565CV",
        "outputId": "e0ad3824-5d5b-4f74-9b93-9de7407fe780"
      },
      "execution_count": null,
      "outputs": [
        {
          "output_type": "display_data",
          "data": {
            "text/plain": [
              "\u001b[38;2;212;183;2m╭─\u001b[0m\u001b[38;2;212;183;2m───────────────────────────────────────────────────\u001b[0m\u001b[38;2;212;183;2m \u001b[0m\u001b[1;38;2;212;183;2mNew run\u001b[0m\u001b[38;2;212;183;2m \u001b[0m\u001b[38;2;212;183;2m───────────────────────────────────────────────────\u001b[0m\u001b[38;2;212;183;2m─╮\u001b[0m\n",
              "\u001b[38;2;212;183;2m│\u001b[0m                                                                                                                 \u001b[38;2;212;183;2m│\u001b[0m\n",
              "\u001b[38;2;212;183;2m│\u001b[0m \u001b[1mSearch for the best music recommendations for a party at the Wayne's mansion.\u001b[0m                                   \u001b[38;2;212;183;2m│\u001b[0m\n",
              "\u001b[38;2;212;183;2m│\u001b[0m                                                                                                                 \u001b[38;2;212;183;2m│\u001b[0m\n",
              "\u001b[38;2;212;183;2m╰─\u001b[0m\u001b[38;2;212;183;2m HfApiModel - Qwen/Qwen2.5-Coder-32B-Instruct \u001b[0m\u001b[38;2;212;183;2m─────────────────────────────────────────────────────────────────\u001b[0m\u001b[38;2;212;183;2m─╯\u001b[0m\n"
            ],
            "text/html": [
              "<pre style=\"white-space:pre;overflow-x:auto;line-height:normal;font-family:Menlo,'DejaVu Sans Mono',consolas,'Courier New',monospace\"><span style=\"color: #d4b702; text-decoration-color: #d4b702\">╭──────────────────────────────────────────────────── </span><span style=\"color: #d4b702; text-decoration-color: #d4b702; font-weight: bold\">New run</span><span style=\"color: #d4b702; text-decoration-color: #d4b702\"> ────────────────────────────────────────────────────╮</span>\n",
              "<span style=\"color: #d4b702; text-decoration-color: #d4b702\">│</span>                                                                                                                 <span style=\"color: #d4b702; text-decoration-color: #d4b702\">│</span>\n",
              "<span style=\"color: #d4b702; text-decoration-color: #d4b702\">│</span> <span style=\"font-weight: bold\">Search for the best music recommendations for a party at the Wayne's mansion.</span>                                   <span style=\"color: #d4b702; text-decoration-color: #d4b702\">│</span>\n",
              "<span style=\"color: #d4b702; text-decoration-color: #d4b702\">│</span>                                                                                                                 <span style=\"color: #d4b702; text-decoration-color: #d4b702\">│</span>\n",
              "<span style=\"color: #d4b702; text-decoration-color: #d4b702\">╰─ HfApiModel - Qwen/Qwen2.5-Coder-32B-Instruct ──────────────────────────────────────────────────────────────────╯</span>\n",
              "</pre>\n"
            ]
          },
          "metadata": {}
        },
        {
          "output_type": "display_data",
          "data": {
            "text/plain": [
              "\u001b[38;2;212;183;2m━━━━━━━━━━━━━━━━━━━━━━━━━━━━━━━━━━━━━━━━━━━━━━━━━━━━━ \u001b[0m\u001b[1mStep \u001b[0m\u001b[1;36m1\u001b[0m\u001b[38;2;212;183;2m ━━━━━━━━━━━━━━━━━━━━━━━━━━━━━━━━━━━━━━━━━━━━━━━━━━━━━━\u001b[0m\n"
            ],
            "text/html": [
              "<pre style=\"white-space:pre;overflow-x:auto;line-height:normal;font-family:Menlo,'DejaVu Sans Mono',consolas,'Courier New',monospace\"><span style=\"color: #d4b702; text-decoration-color: #d4b702\">━━━━━━━━━━━━━━━━━━━━━━━━━━━━━━━━━━━━━━━━━━━━━━━━━━━━━ </span><span style=\"font-weight: bold\">Step </span><span style=\"color: #008080; text-decoration-color: #008080; font-weight: bold\">1</span><span style=\"color: #d4b702; text-decoration-color: #d4b702\"> ━━━━━━━━━━━━━━━━━━━━━━━━━━━━━━━━━━━━━━━━━━━━━━━━━━━━━━</span>\n",
              "</pre>\n"
            ]
          },
          "metadata": {}
        },
        {
          "output_type": "stream",
          "name": "stderr",
          "text": [
            "/usr/local/lib/python3.11/dist-packages/huggingface_hub/utils/_auth.py:94: UserWarning: \n",
            "The secret `HF_TOKEN` does not exist in your Colab secrets.\n",
            "To authenticate with the Hugging Face Hub, create a token in your settings tab (https://huggingface.co/settings/tokens), set it as secret in your Google Colab and restart your session.\n",
            "You will be able to reuse this secret in all of your notebooks.\n",
            "Please note that authentication is recommended but still optional to access public models or datasets.\n",
            "  warnings.warn(\n"
          ]
        },
        {
          "output_type": "display_data",
          "data": {
            "text/plain": [
              "╭─────────────────────────────────────────────────────────────────────────────────────────────────────────────────╮\n",
              "│ Calling tool: 'web_search' with arguments: {'query': \"best music recommendations for a party at Wayne's         │\n",
              "│ mansion\"}                                                                                                       │\n",
              "╰─────────────────────────────────────────────────────────────────────────────────────────────────────────────────╯\n"
            ],
            "text/html": [
              "<pre style=\"white-space:pre;overflow-x:auto;line-height:normal;font-family:Menlo,'DejaVu Sans Mono',consolas,'Courier New',monospace\">╭─────────────────────────────────────────────────────────────────────────────────────────────────────────────────╮\n",
              "│ Calling tool: 'web_search' with arguments: {'query': \"best music recommendations for a party at Wayne's         │\n",
              "│ mansion\"}                                                                                                       │\n",
              "╰─────────────────────────────────────────────────────────────────────────────────────────────────────────────────╯\n",
              "</pre>\n"
            ]
          },
          "metadata": {}
        },
        {
          "output_type": "display_data",
          "data": {
            "text/plain": [
              "Observations: ## Search Results\n",
              "\n",
              "|\u001b[1;36m50\u001b[0m Songs on Every Event Planner's Playlist - \n",
              "Eventbrite\u001b[1m]\u001b[0m\u001b[1m(\u001b[0m\u001b[4;94mhttps://www.eventbrite.com/blog/event-planning-playlist-ds00/\u001b[0m\u001b[4;94m)\u001b[0m\n",
              "Need help choosing the perfect event music? Discover how to curate the right playlist with song suggestions from \n",
              "Eventbrite.\n",
              "\n",
              "|The \u001b[1;36m75\u001b[0m Best Party Songs That Will Get Everyone Dancing - \n",
              "Gear4music\u001b[1m]\u001b[0m\u001b[1m(\u001b[0m\u001b[4;94mhttps://www.gear4music.com/blog/best-party-songs/\u001b[0m\u001b[4;94m)\u001b[0m\n",
              "Creating the perfect soundtrack is crucial to getting the right atmosphere at your event. If you're throwing a \n",
              "party, there are countless songs that will get everyone up and dancing; even once you've chosen your mix, you'll \n",
              "probably still think of more later! So, to keep things simple, we've compiled the best party songs of all time, \n",
              "from timeless classics to contemporary hits, giving \u001b[33m...\u001b[0m\n",
              "\n",
              "|Wedding Party Entrance Songs to Get the Party Started - The Mansion \n",
              "\u001b[33m...\u001b[0m\u001b[1m]\u001b[0m\u001b[1m(\u001b[0m\u001b[4;94mhttps://mansiononmainstreet.com/wedding-party-entrance-songs-to-get-the-party-started/\u001b[0m\u001b[4;94m)\u001b[0m\n",
              "Best Wedding Party Entrance Songs No matter what vibe you're going for, there are some wedding party entrance songs\n",
              "that are guaranteed to be a hit with people. From the latest music from Justin Timberlake to oldies but goodies, \n",
              "most of your guests will be familiar with the popular wedding party entrance songs listed below.\n",
              "\n",
              "|agents-course/units/en/unit2/smolagents/tool_calling_agents \u001b[33m...\u001b[0m - \n",
              "GitHub\u001b[1m]\u001b[0m\u001b[1m(\u001b[0m\u001b[4;94mhttps://github.com/huggingface/agents-course/blob/main/units/en/unit2/smolagents/tool_calling_agents.mdx\u001b[0m\u001b[4;94m)\u001b[0m\n",
              "The only difference is the agent type - the framework handles everything else: \n",
              "fromsmolagentsimportToolCallingAgent, DuckDuckGoSearchTool, \u001b[33mHfApiModelagent\u001b[0m=\u001b[35mToolCallingAgent\u001b[0m \u001b[1m(\u001b[0m\u001b[33mtools\u001b[0m= \n",
              "|DuckDuckGoSearchTool \u001b[1m(\u001b[0m\u001b[1m)\u001b[0m\u001b[1m]\u001b[0m, \u001b[33mmodel\u001b[0m=\u001b[35mHfApiModel\u001b[0m \u001b[1m(\u001b[0m\u001b[1m)\u001b[0m\u001b[1m)\u001b[0m agent. run \u001b[1m(\u001b[0m\u001b[32m\"Search for the best music recommendations for a party \u001b[0m\n",
              "\u001b[32mat the Wayne's mansion.\"\u001b[0m\u001b[1m)\u001b[0m\n",
              "\n",
              "|Music at the Mansion\u001b[1m]\u001b[0m\u001b[1m(\u001b[0m\u001b[4;94mhttps://passaiccountynj.myrec.com/info/activities/program_details.aspx?\u001b[0m\u001b[4;94mProgramID\u001b[0m\u001b[4;94m=\u001b[0m\u001b[4;94m29909\u001b[0m\u001b[4;94m)\u001b[0m\n",
              "Music at the Mansion Join the Passaic County Parks & Recreation office, the Passaic County History and Cultural \n",
              "Affairs Office and In the Drink restaurant at the Dey Mansion in Wayne, NJ for live Music at the Mansion! Thursdays\n",
              "from \u001b[1;36m7\u001b[0m to \u001b[1;36m9\u001b[0m PM the finest local bands will be playing music while In the Drink restaurant sells food and drinks on \n",
              "site.\n",
              "\n",
              "|Creating a playlist for cocktail hour and dinner service for \u001b[33m...\u001b[0m - \n",
              "Reddit\u001b[1m]\u001b[0m\u001b[1m(\u001b[0m\u001b[4;94mhttps://www.reddit.com/r/wilco/comments/12kxks1/creating_a_playlist_for_cocktail_hour_and_dinner/\u001b[0m\u001b[4;94m)\u001b[0m\n",
              "Creating a playlist for cocktail hour and dinner service for my wedding. Could use a few non-Wilco suggestions. The\n",
              "vibe is acoustic forward, mid-tempo, indie sounding songs with lyrics that are about love or at least aren't about \n",
              "a break-up. This thing is already about \u001b[1;36m50\u001b[0m% Wilco \u001b[1m(\u001b[0mand other Jeff Tweedy related groups\u001b[1m)\u001b[0m.\n",
              "\n",
              "|\u001b[1;36m200\u001b[0m Classic House Party Songs Everyone Knows - iSpyTunes\u001b[1m]\u001b[0m\u001b[1m(\u001b[0m\u001b[4;94mhttps://www.ispytunes.com/post/house-party-songs\u001b[0m\u001b[4;94m)\u001b[0m\n",
              "Ready to throw the ultimate house party? These \u001b[1;36m200\u001b[0m songs will have everyone on their feet! From classic jams to \n",
              "modern hits, we got you.\n",
              "\n",
              "|The Best Songs For Parties - The Ambient Mixer \n",
              "Blog\u001b[1m]\u001b[0m\u001b[1m(\u001b[0m\u001b[4;94mhttps://blog.ambient-mixer.com/usage/parties-2/the-best-songs-for-parties/\u001b[0m\u001b[4;94m)\u001b[0m\n",
              "Anyone looking for the best songs for parties should take a look at this article. Some helpful hints on choosing \n",
              "the right music and tips to make sure your party is a success.\n",
              "\n",
              "|Best Songs for a Party - Deezer The Backstage\u001b[1m]\u001b[0m\u001b[1m(\u001b[0m\u001b[4;94mhttps://thebackstage-deezer.com/tops/best-song-party/\u001b[0m\u001b[4;94m)\u001b[0m\n",
              "Every party, whether it's a casual house gathering or a grand wedding, thrives on one essential ingredient: music. \n",
              "From nostalgic throwbacks to the latest chart-toppers, curating the perfect mix ensures that your guests stay on \n",
              "the dance floor all night. In this guide, we'll break down the best party songs for any event, helping event \n",
              "planners, party hosts, DJs, and music enthusiasts \u001b[33m...\u001b[0m\n",
              "\n",
              "|Best \u001b[1;36m18\u001b[0m Songs for a Cozy and Sophisticated Dinner Party - Woke Wave! \n",
              "S\u001b[1m]\u001b[0m\u001b[1m(\u001b[0m\u001b[4;94mhttps://www.wokewaves.com/posts/perfect-songs-for-intimate-dinner-party\u001b[0m\u001b[4;94m)\u001b[0m\n",
              "Set the perfect mood for your intimate dinner party with these \u001b[1;36m18\u001b[0m smooth and sophisticated tracks. From jazz \n",
              "classics to modern favorites, this playlist adds a touch of elegance to your evening.\n"
            ],
            "text/html": [
              "<pre style=\"white-space:pre;overflow-x:auto;line-height:normal;font-family:Menlo,'DejaVu Sans Mono',consolas,'Courier New',monospace\">Observations: ## Search Results\n",
              "\n",
              "|<span style=\"color: #008080; text-decoration-color: #008080; font-weight: bold\">50</span> Songs on Every Event Planner's Playlist - \n",
              "Eventbrite<span style=\"font-weight: bold\">](</span><span style=\"color: #0000ff; text-decoration-color: #0000ff; text-decoration: underline\">https://www.eventbrite.com/blog/event-planning-playlist-ds00/)</span>\n",
              "Need help choosing the perfect event music? Discover how to curate the right playlist with song suggestions from \n",
              "Eventbrite.\n",
              "\n",
              "|The <span style=\"color: #008080; text-decoration-color: #008080; font-weight: bold\">75</span> Best Party Songs That Will Get Everyone Dancing - \n",
              "Gear4music<span style=\"font-weight: bold\">](</span><span style=\"color: #0000ff; text-decoration-color: #0000ff; text-decoration: underline\">https://www.gear4music.com/blog/best-party-songs/)</span>\n",
              "Creating the perfect soundtrack is crucial to getting the right atmosphere at your event. If you're throwing a \n",
              "party, there are countless songs that will get everyone up and dancing; even once you've chosen your mix, you'll \n",
              "probably still think of more later! So, to keep things simple, we've compiled the best party songs of all time, \n",
              "from timeless classics to contemporary hits, giving <span style=\"color: #808000; text-decoration-color: #808000\">...</span>\n",
              "\n",
              "|Wedding Party Entrance Songs to Get the Party Started - The Mansion \n",
              "<span style=\"color: #808000; text-decoration-color: #808000\">...</span><span style=\"font-weight: bold\">](</span><span style=\"color: #0000ff; text-decoration-color: #0000ff; text-decoration: underline\">https://mansiononmainstreet.com/wedding-party-entrance-songs-to-get-the-party-started/)</span>\n",
              "Best Wedding Party Entrance Songs No matter what vibe you're going for, there are some wedding party entrance songs\n",
              "that are guaranteed to be a hit with people. From the latest music from Justin Timberlake to oldies but goodies, \n",
              "most of your guests will be familiar with the popular wedding party entrance songs listed below.\n",
              "\n",
              "|agents-course/units/en/unit2/smolagents/tool_calling_agents <span style=\"color: #808000; text-decoration-color: #808000\">...</span> - \n",
              "GitHub<span style=\"font-weight: bold\">](</span><span style=\"color: #0000ff; text-decoration-color: #0000ff; text-decoration: underline\">https://github.com/huggingface/agents-course/blob/main/units/en/unit2/smolagents/tool_calling_agents.mdx)</span>\n",
              "The only difference is the agent type - the framework handles everything else: \n",
              "fromsmolagentsimportToolCallingAgent, DuckDuckGoSearchTool, <span style=\"color: #808000; text-decoration-color: #808000\">HfApiModelagent</span>=<span style=\"color: #800080; text-decoration-color: #800080\">ToolCallingAgent</span> <span style=\"font-weight: bold\">(</span><span style=\"color: #808000; text-decoration-color: #808000\">tools</span>= \n",
              "|DuckDuckGoSearchTool <span style=\"font-weight: bold\">()]</span>, <span style=\"color: #808000; text-decoration-color: #808000\">model</span>=<span style=\"color: #800080; text-decoration-color: #800080\">HfApiModel</span> <span style=\"font-weight: bold\">())</span> agent. run <span style=\"font-weight: bold\">(</span><span style=\"color: #008000; text-decoration-color: #008000\">\"Search for the best music recommendations for a party </span>\n",
              "<span style=\"color: #008000; text-decoration-color: #008000\">at the Wayne's mansion.\"</span><span style=\"font-weight: bold\">)</span>\n",
              "\n",
              "|Music at the Mansion<span style=\"font-weight: bold\">](</span><span style=\"color: #0000ff; text-decoration-color: #0000ff; text-decoration: underline\">https://passaiccountynj.myrec.com/info/activities/program_details.aspx?ProgramID=29909)</span>\n",
              "Music at the Mansion Join the Passaic County Parks &amp; Recreation office, the Passaic County History and Cultural \n",
              "Affairs Office and In the Drink restaurant at the Dey Mansion in Wayne, NJ for live Music at the Mansion! Thursdays\n",
              "from <span style=\"color: #008080; text-decoration-color: #008080; font-weight: bold\">7</span> to <span style=\"color: #008080; text-decoration-color: #008080; font-weight: bold\">9</span> PM the finest local bands will be playing music while In the Drink restaurant sells food and drinks on \n",
              "site.\n",
              "\n",
              "|Creating a playlist for cocktail hour and dinner service for <span style=\"color: #808000; text-decoration-color: #808000\">...</span> - \n",
              "Reddit<span style=\"font-weight: bold\">](</span><span style=\"color: #0000ff; text-decoration-color: #0000ff; text-decoration: underline\">https://www.reddit.com/r/wilco/comments/12kxks1/creating_a_playlist_for_cocktail_hour_and_dinner/)</span>\n",
              "Creating a playlist for cocktail hour and dinner service for my wedding. Could use a few non-Wilco suggestions. The\n",
              "vibe is acoustic forward, mid-tempo, indie sounding songs with lyrics that are about love or at least aren't about \n",
              "a break-up. This thing is already about <span style=\"color: #008080; text-decoration-color: #008080; font-weight: bold\">50</span>% Wilco <span style=\"font-weight: bold\">(</span>and other Jeff Tweedy related groups<span style=\"font-weight: bold\">)</span>.\n",
              "\n",
              "|<span style=\"color: #008080; text-decoration-color: #008080; font-weight: bold\">200</span> Classic House Party Songs Everyone Knows - iSpyTunes<span style=\"font-weight: bold\">](</span><span style=\"color: #0000ff; text-decoration-color: #0000ff; text-decoration: underline\">https://www.ispytunes.com/post/house-party-songs)</span>\n",
              "Ready to throw the ultimate house party? These <span style=\"color: #008080; text-decoration-color: #008080; font-weight: bold\">200</span> songs will have everyone on their feet! From classic jams to \n",
              "modern hits, we got you.\n",
              "\n",
              "|The Best Songs For Parties - The Ambient Mixer \n",
              "Blog<span style=\"font-weight: bold\">](</span><span style=\"color: #0000ff; text-decoration-color: #0000ff; text-decoration: underline\">https://blog.ambient-mixer.com/usage/parties-2/the-best-songs-for-parties/)</span>\n",
              "Anyone looking for the best songs for parties should take a look at this article. Some helpful hints on choosing \n",
              "the right music and tips to make sure your party is a success.\n",
              "\n",
              "|Best Songs for a Party - Deezer The Backstage<span style=\"font-weight: bold\">](</span><span style=\"color: #0000ff; text-decoration-color: #0000ff; text-decoration: underline\">https://thebackstage-deezer.com/tops/best-song-party/)</span>\n",
              "Every party, whether it's a casual house gathering or a grand wedding, thrives on one essential ingredient: music. \n",
              "From nostalgic throwbacks to the latest chart-toppers, curating the perfect mix ensures that your guests stay on \n",
              "the dance floor all night. In this guide, we'll break down the best party songs for any event, helping event \n",
              "planners, party hosts, DJs, and music enthusiasts <span style=\"color: #808000; text-decoration-color: #808000\">...</span>\n",
              "\n",
              "|Best <span style=\"color: #008080; text-decoration-color: #008080; font-weight: bold\">18</span> Songs for a Cozy and Sophisticated Dinner Party - Woke Wave! \n",
              "S<span style=\"font-weight: bold\">](</span><span style=\"color: #0000ff; text-decoration-color: #0000ff; text-decoration: underline\">https://www.wokewaves.com/posts/perfect-songs-for-intimate-dinner-party)</span>\n",
              "Set the perfect mood for your intimate dinner party with these <span style=\"color: #008080; text-decoration-color: #008080; font-weight: bold\">18</span> smooth and sophisticated tracks. From jazz \n",
              "classics to modern favorites, this playlist adds a touch of elegance to your evening.\n",
              "</pre>\n"
            ]
          },
          "metadata": {}
        },
        {
          "output_type": "display_data",
          "data": {
            "text/plain": [
              "\u001b[2m[Step 0: Duration 2.57 seconds| Input tokens: 1,174 | Output tokens: 26]\u001b[0m\n"
            ],
            "text/html": [
              "<pre style=\"white-space:pre;overflow-x:auto;line-height:normal;font-family:Menlo,'DejaVu Sans Mono',consolas,'Courier New',monospace\"><span style=\"color: #7f7f7f; text-decoration-color: #7f7f7f\">[Step 0: Duration 2.57 seconds| Input tokens: 1,174 | Output tokens: 26]</span>\n",
              "</pre>\n"
            ]
          },
          "metadata": {}
        },
        {
          "output_type": "display_data",
          "data": {
            "text/plain": [
              "\u001b[38;2;212;183;2m━━━━━━━━━━━━━━━━━━━━━━━━━━━━━━━━━━━━━━━━━━━━━━━━━━━━━ \u001b[0m\u001b[1mStep \u001b[0m\u001b[1;36m2\u001b[0m\u001b[38;2;212;183;2m ━━━━━━━━━━━━━━━━━━━━━━━━━━━━━━━━━━━━━━━━━━━━━━━━━━━━━━\u001b[0m\n"
            ],
            "text/html": [
              "<pre style=\"white-space:pre;overflow-x:auto;line-height:normal;font-family:Menlo,'DejaVu Sans Mono',consolas,'Courier New',monospace\"><span style=\"color: #d4b702; text-decoration-color: #d4b702\">━━━━━━━━━━━━━━━━━━━━━━━━━━━━━━━━━━━━━━━━━━━━━━━━━━━━━ </span><span style=\"font-weight: bold\">Step </span><span style=\"color: #008080; text-decoration-color: #008080; font-weight: bold\">2</span><span style=\"color: #d4b702; text-decoration-color: #d4b702\"> ━━━━━━━━━━━━━━━━━━━━━━━━━━━━━━━━━━━━━━━━━━━━━━━━━━━━━━</span>\n",
              "</pre>\n"
            ]
          },
          "metadata": {}
        },
        {
          "output_type": "display_data",
          "data": {
            "text/plain": [
              "╭─────────────────────────────────────────────────────────────────────────────────────────────────────────────────╮\n",
              "│ Calling tool: 'web_search' with arguments: {'query': 'best music recommendations for a sophisticated party in a │\n",
              "│ mansion setting'}                                                                                               │\n",
              "╰─────────────────────────────────────────────────────────────────────────────────────────────────────────────────╯\n"
            ],
            "text/html": [
              "<pre style=\"white-space:pre;overflow-x:auto;line-height:normal;font-family:Menlo,'DejaVu Sans Mono',consolas,'Courier New',monospace\">╭─────────────────────────────────────────────────────────────────────────────────────────────────────────────────╮\n",
              "│ Calling tool: 'web_search' with arguments: {'query': 'best music recommendations for a sophisticated party in a │\n",
              "│ mansion setting'}                                                                                               │\n",
              "╰─────────────────────────────────────────────────────────────────────────────────────────────────────────────────╯\n",
              "</pre>\n"
            ]
          },
          "metadata": {}
        },
        {
          "output_type": "display_data",
          "data": {
            "text/plain": [
              "Observations: ## Search Results\n",
              "\n",
              "|How to Balance Different Types of Music for Luxury Events — Dennis \n",
              "\u001b[33m...\u001b[0m\u001b[1m]\u001b[0m\u001b[1m(\u001b[0m\u001b[4;94mhttps://www.dennissmithentertainment.com/blog-updates/how-to-balance-different-types-of-music-for-various-luxu\u001b[0m\n",
              "\u001b[4;94mry-event-moments\u001b[0m\u001b[4;94m)\u001b[0m\n",
              "Welcome and Cocktail Hour: Soft and Sophisticated. When your guests first arrive, you want to ease them into the \n",
              "night with music that feels elegant but not overpowering. Best Types of Music: Light jazz, acoustic sets, or \n",
              "classical music. Think of string quartets or solo pianists playing softly in the background, setting a relaxed yet \n",
              "classy \u001b[33m...\u001b[0m\n",
              "\n",
              "|Best \u001b[1;36m18\u001b[0m Songs for a Cozy and Sophisticated Dinner \n",
              "Party\u001b[1m]\u001b[0m\u001b[1m(\u001b[0m\u001b[4;94mhttps://www.wokewaves.com/posts/perfect-songs-for-intimate-dinner-party\u001b[0m\u001b[4;94m)\u001b[0m\n",
              "Why It's Perfect: Smooth Operator's stylish sound adds a touch of class to your dinner party, making it an ideal \n",
              "choice for setting a sophisticated mood. \u001b[1;36m15\u001b[0m. \u001b[32m\"Wonderful Tonight\"\u001b[0m - Eric Clapton. Eric Clapton's Wonderful Tonight \n",
              "is a tender, romantic ballad that's perfect for creating a warm, intimate atmosphere. The song's gentle \u001b[33m...\u001b[0m\n",
              "\n",
              "|\u001b[1;36m50\u001b[0m Songs on Every Event Planner's Playlist - \n",
              "Eventbrite\u001b[1m]\u001b[0m\u001b[1m(\u001b[0m\u001b[4;94mhttps://www.eventbrite.com/blog/event-planning-playlist-ds00/\u001b[0m\u001b[4;94m)\u001b[0m\n",
              "Music sets the mood and provides the soundtrack \u001b[1m(\u001b[0mliterally\u001b[1m)\u001b[0m for a memorable and exciting time. While the right \n",
              "songs can enhance the experience, the wrong event music can throw off the vibe. For example, fast-paced songs \n",
              "probably aren't the best fit for a formal gala. And smooth jazz is likely to lull your guests at a motivational \n",
              "conference.\n",
              "\n",
              "|Must-Have Playlists for Different Event \n",
              "Types\u001b[1m]\u001b[0m\u001b[1m(\u001b[0m\u001b[4;94mhttps://www.limelightsent.com/must-have-playlists-for-different-event-types/\u001b[0m\u001b[4;94m)\u001b[0m\n",
              "Background Music for Dinners and Galas. Dinners and gala events often require a more sophisticated selection of \n",
              "music. The goal is to enhance the elegance of the evening without overpowering conversations. A playlist for such \n",
              "settings should include a mix of classical music, smooth jazz, and easy-listening tracks. Ideal choices might \n",
              "include:\n",
              "\n",
              "|Shake, Rattle, and Swoon: \u001b[1;36m10\u001b[0m Classy Songs for Your \n",
              "Gala\u001b[1m]\u001b[0m\u001b[1m(\u001b[0m\u001b[4;94mhttps://www.dennissmithentertainment.com/blog-updates/shake-rattle-and-swoon-10-classy-songs-for-your-gala\u001b[0m\u001b[4;94m)\u001b[0m\n",
              "Captivating Live Performances: Our ensemble of talented musicians, including the acclaimed Party on the Moon, bring\n",
              "melodies to life with unparalleled grace and energy. Seamless Event Orchestration : We ensure your gala unfolds \n",
              "with the precision and fluidity of a well-conducted orchestra.\n",
              "\n",
              "|The Ultimate Playlist for an Elegant Dinner Party — Neon \n",
              "Music\u001b[1m]\u001b[0m\u001b[1m(\u001b[0m\u001b[4;94mhttps://neonmusic.co.uk/the-ultimate-playlist-for-an-elegant-dinner-party\u001b[0m\u001b[4;94m)\u001b[0m\n",
              "\u001b[32m\"The Way You Look Tonight\"\u001b[0m by Frank Sinatra: Sometimes, setting the right mood for a dinner party can mean infusing\n",
              "the evening with a few romantic ditties. If you want to add a little extra charm to your playlist, Frank Sinatra's \n",
              "\u001b[32m\"The Way You Look Tonight\"\u001b[0m is the perfect tune for you, a charming and refined, yet entirely romantic \u001b[33m...\u001b[0m\n",
              "\n",
              "|Most Popular Music Genres for Parties and How to Blend Them for Maximum \n",
              "\u001b[33m...\u001b[0m\u001b[1m]\u001b[0m\u001b[1m(\u001b[0m\u001b[4;94mhttps://toasttothatent.com/blog/most-popular-music-genres-for-parties-and-how-to-blend-them-for-maximum-impact\u001b[0m\n",
              "\u001b[4;94m)\u001b[0m\n",
              "Setting the Perfect Tone for the Party. Setting the tone of the party begins with comprehending the event and its \n",
              "attendees. Whether it's a lively wedding reception, a sophisticated corporate event, or a spirited birthday \n",
              "celebration, the essence of the gathering dictates the music choices. Begin by assessing the party's theme and \n",
              "mood. Is it a \u001b[33m...\u001b[0m\n",
              "\n",
              "|Most Popular Music Genres for Luxury Events: Celebrate with Dennis \n",
              "\u001b[33m...\u001b[0m\u001b[1m]\u001b[0m\u001b[1m(\u001b[0m\u001b[4;94mhttps://www.dennissmithentertainment.com/blog-updates/most-popular-music-genres-at-luxury-events\u001b[0m\u001b[4;94m)\u001b[0m\n",
              "The Role of Music in Setting the Event Atmosphere. Music is the unseen hand that shapes the ambiance of any \n",
              "gathering. It can coax a smile from the shyest guest or draw a tear during a poignant moment. Exploring the Most \n",
              "Popular Music Genres for Luxury Events. Classical Music: The epitome of elegance, classical music offers a backdrop\n",
              "of \u001b[33m...\u001b[0m\n",
              "\n",
              "|\u001b[1;36m70\u001b[0m Best Piano Bar Songs You Should Request\u001b[1m]\u001b[0m\u001b[1m(\u001b[0m\u001b[4;94mhttps://www.pianoarea.com/best-piano-bar-songs/\u001b[0m\u001b[4;94m)\u001b[0m\n",
              "Best Piano Bar Songs You Should Request \u001b[1;36m1\u001b[0m. \u001b[32m\"Piano Man\"\u001b[0m by Billy Joel. One of the top recommendations for piano bar \n",
              "songs is \u001b[32m\"Piano Man\"\u001b[0m by Billy Joel.. This iconic track was released by Columbia Records in \u001b[1;36m1973\u001b[0m.. As part of the \n",
              "album titled \u001b[32m'Piano Man,'\u001b[0m it's one of Billy Joel's most recognizable works.. The song spins a captivating narrative\n",
              "and showcases Joe's compelling \u001b[33m...\u001b[0m\n",
              "\n",
              "|Deep House Music for a Dinner Party, Elegant and Stylish Tracks\u001b[1m]\u001b[0m\u001b[1m(\u001b[0m\u001b[4;94mhttps://www.youtube.com/watch?\u001b[0m\u001b[4;94mv\u001b[0m\u001b[4;94m=\u001b[0m\u001b[4;94mn_SoZLLnQlQ\u001b[0m\u001b[4;94m)\u001b[0m\n",
              "Deep House Music for a Dinner Party, Elegant and Stylish TracksDeephouse Playlist Mix made with Love by Chris Beats\n",
              "Youtube Music Channel:\u001b[1;92m00:00:00\u001b[0m | \u001b[1;36m01\u001b[0m. Ro\u001b[33m...\u001b[0m\n"
            ],
            "text/html": [
              "<pre style=\"white-space:pre;overflow-x:auto;line-height:normal;font-family:Menlo,'DejaVu Sans Mono',consolas,'Courier New',monospace\">Observations: ## Search Results\n",
              "\n",
              "|How to Balance Different Types of Music for Luxury Events — Dennis \n",
              "<span style=\"color: #808000; text-decoration-color: #808000\">...</span><span style=\"font-weight: bold\">](</span><span style=\"color: #0000ff; text-decoration-color: #0000ff; text-decoration: underline\">https://www.dennissmithentertainment.com/blog-updates/how-to-balance-different-types-of-music-for-various-luxu</span>\n",
              "<span style=\"color: #0000ff; text-decoration-color: #0000ff; text-decoration: underline\">ry-event-moments)</span>\n",
              "Welcome and Cocktail Hour: Soft and Sophisticated. When your guests first arrive, you want to ease them into the \n",
              "night with music that feels elegant but not overpowering. Best Types of Music: Light jazz, acoustic sets, or \n",
              "classical music. Think of string quartets or solo pianists playing softly in the background, setting a relaxed yet \n",
              "classy <span style=\"color: #808000; text-decoration-color: #808000\">...</span>\n",
              "\n",
              "|Best <span style=\"color: #008080; text-decoration-color: #008080; font-weight: bold\">18</span> Songs for a Cozy and Sophisticated Dinner \n",
              "Party<span style=\"font-weight: bold\">](</span><span style=\"color: #0000ff; text-decoration-color: #0000ff; text-decoration: underline\">https://www.wokewaves.com/posts/perfect-songs-for-intimate-dinner-party)</span>\n",
              "Why It's Perfect: Smooth Operator's stylish sound adds a touch of class to your dinner party, making it an ideal \n",
              "choice for setting a sophisticated mood. <span style=\"color: #008080; text-decoration-color: #008080; font-weight: bold\">15</span>. <span style=\"color: #008000; text-decoration-color: #008000\">\"Wonderful Tonight\"</span> - Eric Clapton. Eric Clapton's Wonderful Tonight \n",
              "is a tender, romantic ballad that's perfect for creating a warm, intimate atmosphere. The song's gentle <span style=\"color: #808000; text-decoration-color: #808000\">...</span>\n",
              "\n",
              "|<span style=\"color: #008080; text-decoration-color: #008080; font-weight: bold\">50</span> Songs on Every Event Planner's Playlist - \n",
              "Eventbrite<span style=\"font-weight: bold\">](</span><span style=\"color: #0000ff; text-decoration-color: #0000ff; text-decoration: underline\">https://www.eventbrite.com/blog/event-planning-playlist-ds00/)</span>\n",
              "Music sets the mood and provides the soundtrack <span style=\"font-weight: bold\">(</span>literally<span style=\"font-weight: bold\">)</span> for a memorable and exciting time. While the right \n",
              "songs can enhance the experience, the wrong event music can throw off the vibe. For example, fast-paced songs \n",
              "probably aren't the best fit for a formal gala. And smooth jazz is likely to lull your guests at a motivational \n",
              "conference.\n",
              "\n",
              "|Must-Have Playlists for Different Event \n",
              "Types<span style=\"font-weight: bold\">](</span><span style=\"color: #0000ff; text-decoration-color: #0000ff; text-decoration: underline\">https://www.limelightsent.com/must-have-playlists-for-different-event-types/)</span>\n",
              "Background Music for Dinners and Galas. Dinners and gala events often require a more sophisticated selection of \n",
              "music. The goal is to enhance the elegance of the evening without overpowering conversations. A playlist for such \n",
              "settings should include a mix of classical music, smooth jazz, and easy-listening tracks. Ideal choices might \n",
              "include:\n",
              "\n",
              "|Shake, Rattle, and Swoon: <span style=\"color: #008080; text-decoration-color: #008080; font-weight: bold\">10</span> Classy Songs for Your \n",
              "Gala<span style=\"font-weight: bold\">](</span><span style=\"color: #0000ff; text-decoration-color: #0000ff; text-decoration: underline\">https://www.dennissmithentertainment.com/blog-updates/shake-rattle-and-swoon-10-classy-songs-for-your-gala)</span>\n",
              "Captivating Live Performances: Our ensemble of talented musicians, including the acclaimed Party on the Moon, bring\n",
              "melodies to life with unparalleled grace and energy. Seamless Event Orchestration : We ensure your gala unfolds \n",
              "with the precision and fluidity of a well-conducted orchestra.\n",
              "\n",
              "|The Ultimate Playlist for an Elegant Dinner Party — Neon \n",
              "Music<span style=\"font-weight: bold\">](</span><span style=\"color: #0000ff; text-decoration-color: #0000ff; text-decoration: underline\">https://neonmusic.co.uk/the-ultimate-playlist-for-an-elegant-dinner-party)</span>\n",
              "<span style=\"color: #008000; text-decoration-color: #008000\">\"The Way You Look Tonight\"</span> by Frank Sinatra: Sometimes, setting the right mood for a dinner party can mean infusing\n",
              "the evening with a few romantic ditties. If you want to add a little extra charm to your playlist, Frank Sinatra's \n",
              "<span style=\"color: #008000; text-decoration-color: #008000\">\"The Way You Look Tonight\"</span> is the perfect tune for you, a charming and refined, yet entirely romantic <span style=\"color: #808000; text-decoration-color: #808000\">...</span>\n",
              "\n",
              "|Most Popular Music Genres for Parties and How to Blend Them for Maximum \n",
              "<span style=\"color: #808000; text-decoration-color: #808000\">...</span><span style=\"font-weight: bold\">](</span><span style=\"color: #0000ff; text-decoration-color: #0000ff; text-decoration: underline\">https://toasttothatent.com/blog/most-popular-music-genres-for-parties-and-how-to-blend-them-for-maximum-impact</span>\n",
              "<span style=\"color: #0000ff; text-decoration-color: #0000ff; text-decoration: underline\">)</span>\n",
              "Setting the Perfect Tone for the Party. Setting the tone of the party begins with comprehending the event and its \n",
              "attendees. Whether it's a lively wedding reception, a sophisticated corporate event, or a spirited birthday \n",
              "celebration, the essence of the gathering dictates the music choices. Begin by assessing the party's theme and \n",
              "mood. Is it a <span style=\"color: #808000; text-decoration-color: #808000\">...</span>\n",
              "\n",
              "|Most Popular Music Genres for Luxury Events: Celebrate with Dennis \n",
              "<span style=\"color: #808000; text-decoration-color: #808000\">...</span><span style=\"font-weight: bold\">](</span><span style=\"color: #0000ff; text-decoration-color: #0000ff; text-decoration: underline\">https://www.dennissmithentertainment.com/blog-updates/most-popular-music-genres-at-luxury-events)</span>\n",
              "The Role of Music in Setting the Event Atmosphere. Music is the unseen hand that shapes the ambiance of any \n",
              "gathering. It can coax a smile from the shyest guest or draw a tear during a poignant moment. Exploring the Most \n",
              "Popular Music Genres for Luxury Events. Classical Music: The epitome of elegance, classical music offers a backdrop\n",
              "of <span style=\"color: #808000; text-decoration-color: #808000\">...</span>\n",
              "\n",
              "|<span style=\"color: #008080; text-decoration-color: #008080; font-weight: bold\">70</span> Best Piano Bar Songs You Should Request<span style=\"font-weight: bold\">](</span><span style=\"color: #0000ff; text-decoration-color: #0000ff; text-decoration: underline\">https://www.pianoarea.com/best-piano-bar-songs/)</span>\n",
              "Best Piano Bar Songs You Should Request <span style=\"color: #008080; text-decoration-color: #008080; font-weight: bold\">1</span>. <span style=\"color: #008000; text-decoration-color: #008000\">\"Piano Man\"</span> by Billy Joel. One of the top recommendations for piano bar \n",
              "songs is <span style=\"color: #008000; text-decoration-color: #008000\">\"Piano Man\"</span> by Billy Joel.. This iconic track was released by Columbia Records in <span style=\"color: #008080; text-decoration-color: #008080; font-weight: bold\">1973</span>.. As part of the \n",
              "album titled <span style=\"color: #008000; text-decoration-color: #008000\">'Piano Man,'</span> it's one of Billy Joel's most recognizable works.. The song spins a captivating narrative\n",
              "and showcases Joe's compelling <span style=\"color: #808000; text-decoration-color: #808000\">...</span>\n",
              "\n",
              "|Deep House Music for a Dinner Party, Elegant and Stylish Tracks<span style=\"font-weight: bold\">](</span><span style=\"color: #0000ff; text-decoration-color: #0000ff; text-decoration: underline\">https://www.youtube.com/watch?v=n_SoZLLnQlQ)</span>\n",
              "Deep House Music for a Dinner Party, Elegant and Stylish TracksDeephouse Playlist Mix made with Love by Chris Beats\n",
              "Youtube Music Channel:<span style=\"color: #00ff00; text-decoration-color: #00ff00; font-weight: bold\">00:00:00</span> | <span style=\"color: #008080; text-decoration-color: #008080; font-weight: bold\">01</span>. Ro<span style=\"color: #808000; text-decoration-color: #808000\">...</span>\n",
              "</pre>\n"
            ]
          },
          "metadata": {}
        },
        {
          "output_type": "display_data",
          "data": {
            "text/plain": [
              "\u001b[2m[Step 1: Duration 40.90 seconds| Input tokens: 3,356 | Output tokens: 57]\u001b[0m\n"
            ],
            "text/html": [
              "<pre style=\"white-space:pre;overflow-x:auto;line-height:normal;font-family:Menlo,'DejaVu Sans Mono',consolas,'Courier New',monospace\"><span style=\"color: #7f7f7f; text-decoration-color: #7f7f7f\">[Step 1: Duration 40.90 seconds| Input tokens: 3,356 | Output tokens: 57]</span>\n",
              "</pre>\n"
            ]
          },
          "metadata": {}
        },
        {
          "output_type": "display_data",
          "data": {
            "text/plain": [
              "\u001b[38;2;212;183;2m━━━━━━━━━━━━━━━━━━━━━━━━━━━━━━━━━━━━━━━━━━━━━━━━━━━━━ \u001b[0m\u001b[1mStep \u001b[0m\u001b[1;36m3\u001b[0m\u001b[38;2;212;183;2m ━━━━━━━━━━━━━━━━━━━━━━━━━━━━━━━━━━━━━━━━━━━━━━━━━━━━━━\u001b[0m\n"
            ],
            "text/html": [
              "<pre style=\"white-space:pre;overflow-x:auto;line-height:normal;font-family:Menlo,'DejaVu Sans Mono',consolas,'Courier New',monospace\"><span style=\"color: #d4b702; text-decoration-color: #d4b702\">━━━━━━━━━━━━━━━━━━━━━━━━━━━━━━━━━━━━━━━━━━━━━━━━━━━━━ </span><span style=\"font-weight: bold\">Step </span><span style=\"color: #008080; text-decoration-color: #008080; font-weight: bold\">3</span><span style=\"color: #d4b702; text-decoration-color: #d4b702\"> ━━━━━━━━━━━━━━━━━━━━━━━━━━━━━━━━━━━━━━━━━━━━━━━━━━━━━━</span>\n",
              "</pre>\n"
            ]
          },
          "metadata": {}
        },
        {
          "output_type": "display_data",
          "data": {
            "text/plain": [
              "╭─────────────────────────────────────────────────────────────────────────────────────────────────────────────────╮\n",
              "│ Calling tool: 'final_answer' with arguments: {'answer': \"For a sophisticated party at Wayne's mansion, consider │\n",
              "│ mixing classical music, smooth jazz, and easy-listening tracks for the overall ambiance. The Welcome and        │\n",
              "│ Cocktail Hour should feature soft, sophisticated music such as light jazz, acoustic sets, or classical music.   │\n",
              "│ Some recommended songs include 'The Way You Look Tonight' by Frank Sinatra, 'Wonderful Tonight' by Eric         │\n",
              "│ Clapton, and 'Piano Man' by Billy Joel.\"}                                                                       │\n",
              "╰─────────────────────────────────────────────────────────────────────────────────────────────────────────────────╯\n"
            ],
            "text/html": [
              "<pre style=\"white-space:pre;overflow-x:auto;line-height:normal;font-family:Menlo,'DejaVu Sans Mono',consolas,'Courier New',monospace\">╭─────────────────────────────────────────────────────────────────────────────────────────────────────────────────╮\n",
              "│ Calling tool: 'final_answer' with arguments: {'answer': \"For a sophisticated party at Wayne's mansion, consider │\n",
              "│ mixing classical music, smooth jazz, and easy-listening tracks for the overall ambiance. The Welcome and        │\n",
              "│ Cocktail Hour should feature soft, sophisticated music such as light jazz, acoustic sets, or classical music.   │\n",
              "│ Some recommended songs include 'The Way You Look Tonight' by Frank Sinatra, 'Wonderful Tonight' by Eric         │\n",
              "│ Clapton, and 'Piano Man' by Billy Joel.\"}                                                                       │\n",
              "╰─────────────────────────────────────────────────────────────────────────────────────────────────────────────────╯\n",
              "</pre>\n"
            ]
          },
          "metadata": {}
        },
        {
          "output_type": "display_data",
          "data": {
            "text/plain": [
              "\u001b[1;38;2;212;183;2mFinal answer: For a sophisticated party at Wayne's mansion, consider mixing classical music, smooth jazz, and \u001b[0m\n",
              "\u001b[1;38;2;212;183;2measy-listening tracks for the overall ambiance. The Welcome and Cocktail Hour should feature soft, sophisticated \u001b[0m\n",
              "\u001b[1;38;2;212;183;2mmusic such as light jazz, acoustic sets, or classical music. Some recommended songs include 'The Way You Look \u001b[0m\n",
              "\u001b[1;38;2;212;183;2mTonight' by Frank Sinatra, 'Wonderful Tonight' by Eric Clapton, and 'Piano Man' by Billy Joel.\u001b[0m\n"
            ],
            "text/html": [
              "<pre style=\"white-space:pre;overflow-x:auto;line-height:normal;font-family:Menlo,'DejaVu Sans Mono',consolas,'Courier New',monospace\"><span style=\"color: #d4b702; text-decoration-color: #d4b702; font-weight: bold\">Final answer: For a sophisticated party at Wayne's mansion, consider mixing classical music, smooth jazz, and </span>\n",
              "<span style=\"color: #d4b702; text-decoration-color: #d4b702; font-weight: bold\">easy-listening tracks for the overall ambiance. The Welcome and Cocktail Hour should feature soft, sophisticated </span>\n",
              "<span style=\"color: #d4b702; text-decoration-color: #d4b702; font-weight: bold\">music such as light jazz, acoustic sets, or classical music. Some recommended songs include 'The Way You Look </span>\n",
              "<span style=\"color: #d4b702; text-decoration-color: #d4b702; font-weight: bold\">Tonight' by Frank Sinatra, 'Wonderful Tonight' by Eric Clapton, and 'Piano Man' by Billy Joel.</span>\n",
              "</pre>\n"
            ]
          },
          "metadata": {}
        },
        {
          "output_type": "display_data",
          "data": {
            "text/plain": [
              "\u001b[2m[Step 2: Duration 7.48 seconds| Input tokens: 6,671 | Output tokens: 159]\u001b[0m\n"
            ],
            "text/html": [
              "<pre style=\"white-space:pre;overflow-x:auto;line-height:normal;font-family:Menlo,'DejaVu Sans Mono',consolas,'Courier New',monospace\"><span style=\"color: #7f7f7f; text-decoration-color: #7f7f7f\">[Step 2: Duration 7.48 seconds| Input tokens: 6,671 | Output tokens: 159]</span>\n",
              "</pre>\n"
            ]
          },
          "metadata": {}
        },
        {
          "output_type": "execute_result",
          "data": {
            "text/plain": [
              "\"For a sophisticated party at Wayne's mansion, consider mixing classical music, smooth jazz, and easy-listening tracks for the overall ambiance. The Welcome and Cocktail Hour should feature soft, sophisticated music such as light jazz, acoustic sets, or classical music. Some recommended songs include 'The Way You Look Tonight' by Frank Sinatra, 'Wonderful Tonight' by Eric Clapton, and 'Piano Man' by Billy Joel.\""
            ],
            "application/vnd.google.colaboratory.intrinsic+json": {
              "type": "string"
            }
          },
          "metadata": {},
          "execution_count": 4
        }
      ]
    }
  ]
}